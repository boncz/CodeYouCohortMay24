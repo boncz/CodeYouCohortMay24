{
 "cells": [
  {
   "cell_type": "code",
   "execution_count": 241,
   "id": "initial_id",
   "metadata": {
    "collapsed": true,
    "ExecuteTime": {
     "end_time": "2024-05-11T02:22:45.262832400Z",
     "start_time": "2024-05-11T02:22:45.174197800Z"
    }
   },
   "outputs": [],
   "source": [
    "import pandas as pd\n",
    "import matplotlib.pyplot as plt\n",
    "from sklearn.feature_extraction.text import CountVectorizer\n"
   ]
  },
  {
   "cell_type": "markdown",
   "source": [
    "After loading in pandas and matplot lib, let's make a dataframe from our downloaded csv file:"
   ],
   "metadata": {
    "collapsed": false
   },
   "id": "dcc468a41af0791c"
  },
  {
   "cell_type": "code",
   "execution_count": 242,
   "outputs": [],
   "source": [
    "IndianFoodDF = pd.read_csv('IndianFoodDatasetCSV.csv')"
   ],
   "metadata": {
    "collapsed": false,
    "ExecuteTime": {
     "end_time": "2024-05-11T02:22:45.745737700Z",
     "start_time": "2024-05-11T02:22:45.184703700Z"
    }
   },
   "id": "35085413a7209820"
  },
  {
   "cell_type": "code",
   "execution_count": 243,
   "outputs": [
    {
     "data": {
      "text/plain": "   Srno                                         RecipeName  \\\n0     1                               Masala Karela Recipe   \n1     2  टमाटर पुलियोगरे रेसिपी - Spicy Tomato Rice (Re...   \n2     3  Ragi Semiya Upma Recipe - Ragi Millet Vermicel...   \n3     4  Gongura Chicken Curry Recipe - Andhra Style Go...   \n4     5  आंध्रा स्टाइल आलम पचड़ी रेसिपी - Adrak Chutney ...   \n\n                                TranslatedRecipeName  \\\n0                               Masala Karela Recipe   \n1                         Spicy Tomato Rice (Recipe)   \n2  Ragi Semiya Upma Recipe - Ragi Millet Vermicel...   \n3  Gongura Chicken Curry Recipe - Andhra Style Go...   \n4  Andhra Style Alam Pachadi Recipe - Adrak Chutn...   \n\n                                         Ingredients  \\\n0  6 Karela (Bitter Gourd/ Pavakkai) - deseeded,S...   \n1  2-1/2 कप चावल - पका ले,3 टमाटर,3 छोटा चमच्च बी...   \n2  1-1/2 cups Rice Vermicelli Noodles (Thin),1 On...   \n3  500 grams Chicken,2 Onion - chopped,1 Tomato -...   \n4  1 बड़ा चमच्च चना दाल,1 बड़ा चमच्च सफ़ेद उरद दाल,2...   \n\n                               TranslatedIngredients  PrepTimeInMins  \\\n0  6 Karela (Bitter Gourd/ Pavakkai) - deseeded,S...              15   \n1  2-1 / 2 cups rice - cooked, 3 tomatoes, 3 teas...               5   \n2  1-1/2 cups Rice Vermicelli Noodles (Thin),1 On...              20   \n3  500 grams Chicken,2 Onion - chopped,1 Tomato -...              15   \n4  1 tablespoon chana dal, 1 tablespoon white ura...              10   \n\n   CookTimeInMins  TotalTimeInMins  Servings               Cuisine  \\\n0              30               45         6                Indian   \n1              10               15         3  South Indian Recipes   \n2              30               50         4  South Indian Recipes   \n3              30               45         4                Andhra   \n4              20               30         4                Andhra   \n\n                   Course                     Diet  \\\n0               Side Dish        Diabetic Friendly   \n1             Main Course               Vegetarian   \n2  South Indian Breakfast  High Protein Vegetarian   \n3                   Lunch           Non Vegeterian   \n4  South Indian Breakfast               Vegetarian   \n\n                                        Instructions  \\\n0  To begin making the Masala Karela Recipe,de-se...   \n1  टमाटर पुलियोगरे बनाने के लिए सबसे पहले टमाटर क...   \n2  To begin making the Ragi Vermicelli Recipe, fi...   \n3  To begin making Gongura Chicken Curry Recipe f...   \n4  आंध्रा स्टाइल आलम पचड़ी बनाने के लिए सबसे पहले ...   \n\n                              TranslatedInstructions  \\\n0  To begin making the Masala Karela Recipe,de-se...   \n1  To make tomato puliogere, first cut the tomato...   \n2  To begin making the Ragi Vermicelli Recipe, fi...   \n3  To begin making Gongura Chicken Curry Recipe f...   \n4  To make Andhra Style Alam Pachadi, first heat ...   \n\n                                                 URL  \n0  https://www.archanaskitchen.com/masala-karela-...  \n1  http://www.archanaskitchen.com/spicy-tomato-ri...  \n2  http://www.archanaskitchen.com/ragi-vermicelli...  \n3  http://www.archanaskitchen.com/gongura-chicken...  \n4  https://www.archanaskitchen.com/andhra-style-a...  ",
      "text/html": "<div>\n<style scoped>\n    .dataframe tbody tr th:only-of-type {\n        vertical-align: middle;\n    }\n\n    .dataframe tbody tr th {\n        vertical-align: top;\n    }\n\n    .dataframe thead th {\n        text-align: right;\n    }\n</style>\n<table border=\"1\" class=\"dataframe\">\n  <thead>\n    <tr style=\"text-align: right;\">\n      <th></th>\n      <th>Srno</th>\n      <th>RecipeName</th>\n      <th>TranslatedRecipeName</th>\n      <th>Ingredients</th>\n      <th>TranslatedIngredients</th>\n      <th>PrepTimeInMins</th>\n      <th>CookTimeInMins</th>\n      <th>TotalTimeInMins</th>\n      <th>Servings</th>\n      <th>Cuisine</th>\n      <th>Course</th>\n      <th>Diet</th>\n      <th>Instructions</th>\n      <th>TranslatedInstructions</th>\n      <th>URL</th>\n    </tr>\n  </thead>\n  <tbody>\n    <tr>\n      <th>0</th>\n      <td>1</td>\n      <td>Masala Karela Recipe</td>\n      <td>Masala Karela Recipe</td>\n      <td>6 Karela (Bitter Gourd/ Pavakkai) - deseeded,S...</td>\n      <td>6 Karela (Bitter Gourd/ Pavakkai) - deseeded,S...</td>\n      <td>15</td>\n      <td>30</td>\n      <td>45</td>\n      <td>6</td>\n      <td>Indian</td>\n      <td>Side Dish</td>\n      <td>Diabetic Friendly</td>\n      <td>To begin making the Masala Karela Recipe,de-se...</td>\n      <td>To begin making the Masala Karela Recipe,de-se...</td>\n      <td>https://www.archanaskitchen.com/masala-karela-...</td>\n    </tr>\n    <tr>\n      <th>1</th>\n      <td>2</td>\n      <td>टमाटर पुलियोगरे रेसिपी - Spicy Tomato Rice (Re...</td>\n      <td>Spicy Tomato Rice (Recipe)</td>\n      <td>2-1/2 कप चावल - पका ले,3 टमाटर,3 छोटा चमच्च बी...</td>\n      <td>2-1 / 2 cups rice - cooked, 3 tomatoes, 3 teas...</td>\n      <td>5</td>\n      <td>10</td>\n      <td>15</td>\n      <td>3</td>\n      <td>South Indian Recipes</td>\n      <td>Main Course</td>\n      <td>Vegetarian</td>\n      <td>टमाटर पुलियोगरे बनाने के लिए सबसे पहले टमाटर क...</td>\n      <td>To make tomato puliogere, first cut the tomato...</td>\n      <td>http://www.archanaskitchen.com/spicy-tomato-ri...</td>\n    </tr>\n    <tr>\n      <th>2</th>\n      <td>3</td>\n      <td>Ragi Semiya Upma Recipe - Ragi Millet Vermicel...</td>\n      <td>Ragi Semiya Upma Recipe - Ragi Millet Vermicel...</td>\n      <td>1-1/2 cups Rice Vermicelli Noodles (Thin),1 On...</td>\n      <td>1-1/2 cups Rice Vermicelli Noodles (Thin),1 On...</td>\n      <td>20</td>\n      <td>30</td>\n      <td>50</td>\n      <td>4</td>\n      <td>South Indian Recipes</td>\n      <td>South Indian Breakfast</td>\n      <td>High Protein Vegetarian</td>\n      <td>To begin making the Ragi Vermicelli Recipe, fi...</td>\n      <td>To begin making the Ragi Vermicelli Recipe, fi...</td>\n      <td>http://www.archanaskitchen.com/ragi-vermicelli...</td>\n    </tr>\n    <tr>\n      <th>3</th>\n      <td>4</td>\n      <td>Gongura Chicken Curry Recipe - Andhra Style Go...</td>\n      <td>Gongura Chicken Curry Recipe - Andhra Style Go...</td>\n      <td>500 grams Chicken,2 Onion - chopped,1 Tomato -...</td>\n      <td>500 grams Chicken,2 Onion - chopped,1 Tomato -...</td>\n      <td>15</td>\n      <td>30</td>\n      <td>45</td>\n      <td>4</td>\n      <td>Andhra</td>\n      <td>Lunch</td>\n      <td>Non Vegeterian</td>\n      <td>To begin making Gongura Chicken Curry Recipe f...</td>\n      <td>To begin making Gongura Chicken Curry Recipe f...</td>\n      <td>http://www.archanaskitchen.com/gongura-chicken...</td>\n    </tr>\n    <tr>\n      <th>4</th>\n      <td>5</td>\n      <td>आंध्रा स्टाइल आलम पचड़ी रेसिपी - Adrak Chutney ...</td>\n      <td>Andhra Style Alam Pachadi Recipe - Adrak Chutn...</td>\n      <td>1 बड़ा चमच्च चना दाल,1 बड़ा चमच्च सफ़ेद उरद दाल,2...</td>\n      <td>1 tablespoon chana dal, 1 tablespoon white ura...</td>\n      <td>10</td>\n      <td>20</td>\n      <td>30</td>\n      <td>4</td>\n      <td>Andhra</td>\n      <td>South Indian Breakfast</td>\n      <td>Vegetarian</td>\n      <td>आंध्रा स्टाइल आलम पचड़ी बनाने के लिए सबसे पहले ...</td>\n      <td>To make Andhra Style Alam Pachadi, first heat ...</td>\n      <td>https://www.archanaskitchen.com/andhra-style-a...</td>\n    </tr>\n  </tbody>\n</table>\n</div>"
     },
     "execution_count": 243,
     "metadata": {},
     "output_type": "execute_result"
    }
   ],
   "source": [
    "#Take a first look at what we have\n",
    "IndianFoodDF.head()"
   ],
   "metadata": {
    "collapsed": false,
    "ExecuteTime": {
     "end_time": "2024-05-11T02:22:45.769443400Z",
     "start_time": "2024-05-11T02:22:45.745737700Z"
    }
   },
   "id": "7da6ce3d0573c779"
  },
  {
   "cell_type": "markdown",
   "source": [
    "It appears that every row in this df is a unique recipe. How much and what kinds of data do we have? Let's see below:"
   ],
   "metadata": {
    "collapsed": false
   },
   "id": "466b00003770af5"
  },
  {
   "cell_type": "code",
   "execution_count": 244,
   "outputs": [
    {
     "data": {
      "text/plain": "(6871, 15)"
     },
     "execution_count": 244,
     "metadata": {},
     "output_type": "execute_result"
    }
   ],
   "source": [
    "#find the rows/columns\n",
    "IndianFoodDF.shape"
   ],
   "metadata": {
    "collapsed": false,
    "ExecuteTime": {
     "end_time": "2024-05-11T02:22:45.845897300Z",
     "start_time": "2024-05-11T02:22:45.769443400Z"
    }
   },
   "id": "2c334380e6355d0d"
  },
  {
   "cell_type": "code",
   "execution_count": 245,
   "outputs": [
    {
     "data": {
      "text/plain": "Index(['Srno', 'RecipeName', 'TranslatedRecipeName', 'Ingredients',\n       'TranslatedIngredients', 'PrepTimeInMins', 'CookTimeInMins',\n       'TotalTimeInMins', 'Servings', 'Cuisine', 'Course', 'Diet',\n       'Instructions', 'TranslatedInstructions', 'URL'],\n      dtype='object')"
     },
     "execution_count": 245,
     "metadata": {},
     "output_type": "execute_result"
    }
   ],
   "source": [
    "#check out the column names for the 15 columns\n",
    "IndianFoodDF.columns"
   ],
   "metadata": {
    "collapsed": false,
    "ExecuteTime": {
     "end_time": "2024-05-11T02:22:45.845897300Z",
     "start_time": "2024-05-11T02:22:45.790452400Z"
    }
   },
   "id": "4a2296a271651673"
  },
  {
   "cell_type": "code",
   "execution_count": 246,
   "outputs": [],
   "source": [
    "#Now, let's drop any columns that we don't want.\n",
    "IndianFoodDF = IndianFoodDF.drop(['Srno','RecipeName','Ingredients', 'Instructions'], axis=1)"
   ],
   "metadata": {
    "collapsed": false,
    "ExecuteTime": {
     "end_time": "2024-05-11T02:22:45.909195300Z",
     "start_time": "2024-05-11T02:22:45.798957400Z"
    }
   },
   "id": "edb4d8d7c9cb4635"
  },
  {
   "cell_type": "code",
   "execution_count": 247,
   "outputs": [],
   "source": [
    "#And now rename the columns that are left:\n",
    "IndianFoodDF.rename(columns={'TranslatedRecipeName':'RecipeName', 'TranslatedIngredients':'Ingredients', 'TranslatedInstructions':'Instructions'}, inplace=True)"
   ],
   "metadata": {
    "collapsed": false,
    "ExecuteTime": {
     "end_time": "2024-05-11T02:22:45.945538100Z",
     "start_time": "2024-05-11T02:22:45.804063Z"
    }
   },
   "id": "d4b02bea7ebadcc2"
  },
  {
   "cell_type": "code",
   "execution_count": 248,
   "outputs": [
    {
     "data": {
      "text/plain": "Index(['RecipeName', 'Ingredients', 'PrepTimeInMins', 'CookTimeInMins',\n       'TotalTimeInMins', 'Servings', 'Cuisine', 'Course', 'Diet',\n       'Instructions', 'URL'],\n      dtype='object')"
     },
     "execution_count": 248,
     "metadata": {},
     "output_type": "execute_result"
    }
   ],
   "source": [
    "#confirm the change\n",
    "IndianFoodDF.columns"
   ],
   "metadata": {
    "collapsed": false,
    "ExecuteTime": {
     "end_time": "2024-05-11T02:22:45.945538100Z",
     "start_time": "2024-05-11T02:22:45.814309600Z"
    }
   },
   "id": "c26ad55b78e18f15"
  },
  {
   "cell_type": "code",
   "execution_count": 249,
   "outputs": [
    {
     "name": "stdout",
     "output_type": "stream",
     "text": [
      "<class 'pandas.core.frame.DataFrame'>\n",
      "RangeIndex: 6871 entries, 0 to 6870\n",
      "Data columns (total 11 columns):\n",
      " #   Column           Non-Null Count  Dtype \n",
      "---  ------           --------------  ----- \n",
      " 0   RecipeName       6871 non-null   object\n",
      " 1   Ingredients      6865 non-null   object\n",
      " 2   PrepTimeInMins   6871 non-null   int64 \n",
      " 3   CookTimeInMins   6871 non-null   int64 \n",
      " 4   TotalTimeInMins  6871 non-null   int64 \n",
      " 5   Servings         6871 non-null   int64 \n",
      " 6   Cuisine          6871 non-null   object\n",
      " 7   Course           6871 non-null   object\n",
      " 8   Diet             6871 non-null   object\n",
      " 9   Instructions     6871 non-null   object\n",
      " 10  URL              6871 non-null   object\n",
      "dtypes: int64(4), object(7)\n",
      "memory usage: 590.6+ KB\n"
     ]
    }
   ],
   "source": [
    "#check to see the datatypes and null counts:\n",
    "IndianFoodDF.info()"
   ],
   "metadata": {
    "collapsed": false,
    "ExecuteTime": {
     "end_time": "2024-05-11T02:22:45.945538100Z",
     "start_time": "2024-05-11T02:22:45.830267400Z"
    }
   },
   "id": "ea140ffc4f071a07"
  },
  {
   "cell_type": "code",
   "execution_count": 250,
   "outputs": [],
   "source": [
    "#There are only 6 recipes that do not have ingredients. Although there is other info for these recipes, I feel like these aren't really usable for us... I'm going to decide to drop them. \n",
    "IndianFoodDF = IndianFoodDF.dropna()"
   ],
   "metadata": {
    "collapsed": false,
    "ExecuteTime": {
     "end_time": "2024-05-11T02:22:46.004305100Z",
     "start_time": "2024-05-11T02:22:45.861597400Z"
    }
   },
   "id": "c4633c5680f22d46"
  },
  {
   "cell_type": "code",
   "execution_count": 251,
   "outputs": [
    {
     "name": "stdout",
     "output_type": "stream",
     "text": [
      "<class 'pandas.core.frame.DataFrame'>\n",
      "Index: 6865 entries, 0 to 6870\n",
      "Data columns (total 11 columns):\n",
      " #   Column           Non-Null Count  Dtype \n",
      "---  ------           --------------  ----- \n",
      " 0   RecipeName       6865 non-null   object\n",
      " 1   Ingredients      6865 non-null   object\n",
      " 2   PrepTimeInMins   6865 non-null   int64 \n",
      " 3   CookTimeInMins   6865 non-null   int64 \n",
      " 4   TotalTimeInMins  6865 non-null   int64 \n",
      " 5   Servings         6865 non-null   int64 \n",
      " 6   Cuisine          6865 non-null   object\n",
      " 7   Course           6865 non-null   object\n",
      " 8   Diet             6865 non-null   object\n",
      " 9   Instructions     6865 non-null   object\n",
      " 10  URL              6865 non-null   object\n",
      "dtypes: int64(4), object(7)\n",
      "memory usage: 643.6+ KB\n"
     ]
    }
   ],
   "source": [
    "#confirm the change\n",
    "IndianFoodDF.info()"
   ],
   "metadata": {
    "collapsed": false,
    "ExecuteTime": {
     "end_time": "2024-05-11T02:22:46.256830500Z",
     "start_time": "2024-05-11T02:22:45.877572500Z"
    }
   },
   "id": "4304583a7d458124"
  },
  {
   "cell_type": "markdown",
   "source": [
    "The next few cells we're just going to look around the data to see what we find :) "
   ],
   "metadata": {
    "collapsed": false
   },
   "id": "7e1080fd0b0f42f7"
  },
  {
   "cell_type": "code",
   "execution_count": 252,
   "outputs": [
    {
     "name": "stdout",
     "output_type": "stream",
     "text": [
      "There are 82 different types of Cuisine\n"
     ]
    },
    {
     "data": {
      "text/plain": "Cuisine\nIndian                  1157\nContinental             1020\nNorth Indian Recipes     936\nSouth Indian Recipes     681\nItalian Recipes          235\n                        ... \nJewish                     1\nDessert                    1\nSide Dish                  1\nShandong                   1\nLunch                      1\nName: count, Length: 82, dtype: int64"
     },
     "execution_count": 252,
     "metadata": {},
     "output_type": "execute_result"
    }
   ],
   "source": [
    "#What is represented by Cuisine\n",
    "print(f'There are {IndianFoodDF.Cuisine.nunique()} different types of Cuisine')\n",
    "IndianFoodDF.Cuisine.value_counts()"
   ],
   "metadata": {
    "collapsed": false,
    "ExecuteTime": {
     "end_time": "2024-05-11T02:22:46.256830500Z",
     "start_time": "2024-05-11T02:22:45.896189200Z"
    }
   },
   "id": "bcd9b8c0d057ff11"
  },
  {
   "cell_type": "code",
   "execution_count": 253,
   "outputs": [
    {
     "name": "stdout",
     "output_type": "stream",
     "text": [
      "There are 20 unique values for Course\n"
     ]
    },
    {
     "data": {
      "text/plain": "Course\nLunch                           1763\nSide Dish                        992\nSnack                            876\nDinner                           781\nDessert                          659\nAppetizer                        637\nMain Course                      315\nSouth Indian Breakfast           260\nWorld Breakfast                  260\nNorth Indian Breakfast           122\nIndian Breakfast                 101\nVegetarian                        47\nOne Pot Dish                      33\nHigh Protein Vegetarian            7\nBrunch                             4\nVegan                              3\nNon Vegeterian                     2\nEggetarian                         1\nNo Onion No Garlic (Sattvic)       1\nSugar Free Diet                    1\nName: count, dtype: int64"
     },
     "execution_count": 253,
     "metadata": {},
     "output_type": "execute_result"
    }
   ],
   "source": [
    "print(f'There are {IndianFoodDF.Course.nunique()} unique values for Course')\n",
    "IndianFoodDF.Course.value_counts()"
   ],
   "metadata": {
    "collapsed": false,
    "ExecuteTime": {
     "end_time": "2024-05-11T02:22:46.256830500Z",
     "start_time": "2024-05-11T02:22:45.913946600Z"
    }
   },
   "id": "78f06b4ba24fc843"
  },
  {
   "cell_type": "code",
   "execution_count": 254,
   "outputs": [],
   "source": [
    "#Let's group our info by country and cuisine, looking just at average cook time and number of recipes:\n",
    "IFdfByCountry = IndianFoodDF.groupby(['Cuisine', 'Course']).agg({'TotalTimeInMins':'mean', 'RecipeName':'count'}).round(0).reset_index().rename(columns={'RecipeName':'Count', 'TotalTimeInMins':'AverageTotalTime'})"
   ],
   "metadata": {
    "collapsed": false,
    "ExecuteTime": {
     "end_time": "2024-05-11T02:22:46.256830500Z",
     "start_time": "2024-05-11T02:22:45.929685100Z"
    }
   },
   "id": "bfdbf6bd07093ff0"
  },
  {
   "cell_type": "code",
   "execution_count": 255,
   "outputs": [
    {
     "data": {
      "text/plain": "                  Cuisine           Course  AverageTotalTime  Count\n364  North Indian Recipes            Lunch              55.0    346\n191                Indian            Lunch              53.0    255\n196                Indian            Snack              50.0    234\n437  South Indian Recipes            Lunch              45.0    229\n99            Continental          Dessert             127.0    226\n..                    ...              ...               ...    ...\n96      Coastal Karnataka            Snack              60.0      1\n92                Chinese  World Breakfast              45.0      1\n91                Chinese       Vegetarian              15.0      1\n90                Chinese            Snack              40.0      1\n0                  Afghan           Dinner              40.0      1\n\n[490 rows x 4 columns]",
      "text/html": "<div>\n<style scoped>\n    .dataframe tbody tr th:only-of-type {\n        vertical-align: middle;\n    }\n\n    .dataframe tbody tr th {\n        vertical-align: top;\n    }\n\n    .dataframe thead th {\n        text-align: right;\n    }\n</style>\n<table border=\"1\" class=\"dataframe\">\n  <thead>\n    <tr style=\"text-align: right;\">\n      <th></th>\n      <th>Cuisine</th>\n      <th>Course</th>\n      <th>AverageTotalTime</th>\n      <th>Count</th>\n    </tr>\n  </thead>\n  <tbody>\n    <tr>\n      <th>364</th>\n      <td>North Indian Recipes</td>\n      <td>Lunch</td>\n      <td>55.0</td>\n      <td>346</td>\n    </tr>\n    <tr>\n      <th>191</th>\n      <td>Indian</td>\n      <td>Lunch</td>\n      <td>53.0</td>\n      <td>255</td>\n    </tr>\n    <tr>\n      <th>196</th>\n      <td>Indian</td>\n      <td>Snack</td>\n      <td>50.0</td>\n      <td>234</td>\n    </tr>\n    <tr>\n      <th>437</th>\n      <td>South Indian Recipes</td>\n      <td>Lunch</td>\n      <td>45.0</td>\n      <td>229</td>\n    </tr>\n    <tr>\n      <th>99</th>\n      <td>Continental</td>\n      <td>Dessert</td>\n      <td>127.0</td>\n      <td>226</td>\n    </tr>\n    <tr>\n      <th>...</th>\n      <td>...</td>\n      <td>...</td>\n      <td>...</td>\n      <td>...</td>\n    </tr>\n    <tr>\n      <th>96</th>\n      <td>Coastal Karnataka</td>\n      <td>Snack</td>\n      <td>60.0</td>\n      <td>1</td>\n    </tr>\n    <tr>\n      <th>92</th>\n      <td>Chinese</td>\n      <td>World Breakfast</td>\n      <td>45.0</td>\n      <td>1</td>\n    </tr>\n    <tr>\n      <th>91</th>\n      <td>Chinese</td>\n      <td>Vegetarian</td>\n      <td>15.0</td>\n      <td>1</td>\n    </tr>\n    <tr>\n      <th>90</th>\n      <td>Chinese</td>\n      <td>Snack</td>\n      <td>40.0</td>\n      <td>1</td>\n    </tr>\n    <tr>\n      <th>0</th>\n      <td>Afghan</td>\n      <td>Dinner</td>\n      <td>40.0</td>\n      <td>1</td>\n    </tr>\n  </tbody>\n</table>\n<p>490 rows × 4 columns</p>\n</div>"
     },
     "execution_count": 255,
     "metadata": {},
     "output_type": "execute_result"
    }
   ],
   "source": [
    "#Which types of food/cuisine are in the top 10 most common in this df?\n",
    "IFdfByCountry.sort_values('Count', ascending=False)"
   ],
   "metadata": {
    "collapsed": false,
    "ExecuteTime": {
     "end_time": "2024-05-11T02:22:46.288075300Z",
     "start_time": "2024-05-11T02:22:45.956542300Z"
    }
   },
   "id": "9f80b64b8f4ab655"
  },
  {
   "cell_type": "code",
   "execution_count": 256,
   "outputs": [
    {
     "data": {
      "text/plain": "             Cuisine                   Course  AverageTotalTime  Count\n31             Asian               Vegetarian               7.0      2\n101      Continental               Eggetarian              10.0      1\n398    Parsi Recipes               Vegetarian              10.0      1\n391    Parsi Recipes  High Protein Vegetarian              10.0      1\n199           Indian               Vegetarian              10.0      9\n..               ...                      ...               ...    ...\n444  South Karnataka              Main Course             530.0      1\n308      Mangalorean         Indian Breakfast             570.0      1\n348         Nepalese                   Dinner             762.0      2\n189           Indian  High Protein Vegetarian             850.0      1\n380    Oriya Recipes         Indian Breakfast            1470.0      1\n\n[490 rows x 4 columns]",
      "text/html": "<div>\n<style scoped>\n    .dataframe tbody tr th:only-of-type {\n        vertical-align: middle;\n    }\n\n    .dataframe tbody tr th {\n        vertical-align: top;\n    }\n\n    .dataframe thead th {\n        text-align: right;\n    }\n</style>\n<table border=\"1\" class=\"dataframe\">\n  <thead>\n    <tr style=\"text-align: right;\">\n      <th></th>\n      <th>Cuisine</th>\n      <th>Course</th>\n      <th>AverageTotalTime</th>\n      <th>Count</th>\n    </tr>\n  </thead>\n  <tbody>\n    <tr>\n      <th>31</th>\n      <td>Asian</td>\n      <td>Vegetarian</td>\n      <td>7.0</td>\n      <td>2</td>\n    </tr>\n    <tr>\n      <th>101</th>\n      <td>Continental</td>\n      <td>Eggetarian</td>\n      <td>10.0</td>\n      <td>1</td>\n    </tr>\n    <tr>\n      <th>398</th>\n      <td>Parsi Recipes</td>\n      <td>Vegetarian</td>\n      <td>10.0</td>\n      <td>1</td>\n    </tr>\n    <tr>\n      <th>391</th>\n      <td>Parsi Recipes</td>\n      <td>High Protein Vegetarian</td>\n      <td>10.0</td>\n      <td>1</td>\n    </tr>\n    <tr>\n      <th>199</th>\n      <td>Indian</td>\n      <td>Vegetarian</td>\n      <td>10.0</td>\n      <td>9</td>\n    </tr>\n    <tr>\n      <th>...</th>\n      <td>...</td>\n      <td>...</td>\n      <td>...</td>\n      <td>...</td>\n    </tr>\n    <tr>\n      <th>444</th>\n      <td>South Karnataka</td>\n      <td>Main Course</td>\n      <td>530.0</td>\n      <td>1</td>\n    </tr>\n    <tr>\n      <th>308</th>\n      <td>Mangalorean</td>\n      <td>Indian Breakfast</td>\n      <td>570.0</td>\n      <td>1</td>\n    </tr>\n    <tr>\n      <th>348</th>\n      <td>Nepalese</td>\n      <td>Dinner</td>\n      <td>762.0</td>\n      <td>2</td>\n    </tr>\n    <tr>\n      <th>189</th>\n      <td>Indian</td>\n      <td>High Protein Vegetarian</td>\n      <td>850.0</td>\n      <td>1</td>\n    </tr>\n    <tr>\n      <th>380</th>\n      <td>Oriya Recipes</td>\n      <td>Indian Breakfast</td>\n      <td>1470.0</td>\n      <td>1</td>\n    </tr>\n  </tbody>\n</table>\n<p>490 rows × 4 columns</p>\n</div>"
     },
     "execution_count": 256,
     "metadata": {},
     "output_type": "execute_result"
    }
   ],
   "source": [
    "#What can we see about the places and course type pairings that have the fastest average total time?\n",
    "IFdfByCountry.sort_values('AverageTotalTime')"
   ],
   "metadata": {
    "collapsed": false,
    "ExecuteTime": {
     "end_time": "2024-05-11T02:22:46.288075300Z",
     "start_time": "2024-05-11T02:22:45.972639400Z"
    }
   },
   "id": "f8fe3eabebe325a8"
  },
  {
   "cell_type": "code",
   "execution_count": 257,
   "outputs": [],
   "source": [
    "#What if we want to dive more deeply into fast and slow recipes, using all the data?\n",
    "QuickIFdf = IndianFoodDF[IndianFoodDF['TotalTimeInMins'] <=30]\n",
    "SlowIFdf = IndianFoodDF[IndianFoodDF['TotalTimeInMins'] > 30]"
   ],
   "metadata": {
    "collapsed": false,
    "ExecuteTime": {
     "end_time": "2024-05-11T02:22:46.288075300Z",
     "start_time": "2024-05-11T02:22:46.004305100Z"
    }
   },
   "id": "455f9dbc0cf79df"
  },
  {
   "cell_type": "code",
   "execution_count": 258,
   "outputs": [
    {
     "name": "stdout",
     "output_type": "stream",
     "text": [
      "There are 2065 recipes that take 30 mins and under, and 4800 recipes that take more than 30 mins total time.\n"
     ]
    }
   ],
   "source": [
    "QuickIFshape = QuickIFdf.shape\n",
    "SlowIFdfshape = SlowIFdf.shape\n",
    "print(f'There are {QuickIFshape[0]} recipes that take 30 mins and under, and {SlowIFdfshape[0]} recipes that take more than 30 mins total time.')"
   ],
   "metadata": {
    "collapsed": false,
    "ExecuteTime": {
     "end_time": "2024-05-11T02:22:46.288075300Z",
     "start_time": "2024-05-11T02:22:46.025951900Z"
    }
   },
   "id": "678ac3c939509330"
  },
  {
   "cell_type": "markdown",
   "source": [
    "Wow, more than twice as many long recipes! Let's see if there are any similarities or differences between the diet and course info for slow vs quick:"
   ],
   "metadata": {
    "collapsed": false
   },
   "id": "f2be4223fc031ded"
  },
  {
   "cell_type": "code",
   "execution_count": 259,
   "outputs": [
    {
     "data": {
      "text/plain": "Diet\nVegetarian                      1548\nHigh Protein Vegetarian          171\nEggetarian                        89\nDiabetic Friendly                 84\nHigh Protein Non Vegetarian       55\nNon Vegeterian                    55\nVegan                             27\nNo Onion No Garlic (Sattvic)      17\nGluten Free                       13\nSugar Free Diet                    6\nName: count, dtype: int64"
     },
     "execution_count": 259,
     "metadata": {},
     "output_type": "execute_result"
    }
   ],
   "source": [
    "QuickIFdf.Diet.value_counts()"
   ],
   "metadata": {
    "collapsed": false,
    "ExecuteTime": {
     "end_time": "2024-05-11T02:22:46.288075300Z",
     "start_time": "2024-05-11T02:22:46.035959100Z"
    }
   },
   "id": "d51390e108aed0b6"
  },
  {
   "cell_type": "code",
   "execution_count": 260,
   "outputs": [
    {
     "data": {
      "text/plain": "Diet\nVegetarian                      3158\nHigh Protein Vegetarian          534\nNon Vegeterian                   372\nEggetarian                       255\nDiabetic Friendly                176\nHigh Protein Non Vegetarian      170\nNo Onion No Garlic (Sattvic)      56\nGluten Free                       37\nVegan                             34\nSugar Free Diet                    8\nName: count, dtype: int64"
     },
     "execution_count": 260,
     "metadata": {},
     "output_type": "execute_result"
    }
   ],
   "source": [
    "SlowIFdf.Diet.value_counts()"
   ],
   "metadata": {
    "collapsed": false,
    "ExecuteTime": {
     "end_time": "2024-05-11T02:22:46.288075300Z",
     "start_time": "2024-05-11T02:22:46.043098400Z"
    }
   },
   "id": "9c1876885258d9cb"
  },
  {
   "cell_type": "code",
   "execution_count": 261,
   "outputs": [
    {
     "data": {
      "text/plain": "Course\nSide Dish                       507\nLunch                           395\nSnack                           268\nAppetizer                       224\nDinner                          174\nWorld Breakfast                 134\nDessert                          97\nSouth Indian Breakfast           76\nMain Course                      70\nNorth Indian Breakfast           39\nIndian Breakfast                 34\nVegetarian                       34\nOne Pot Dish                      4\nHigh Protein Vegetarian           3\nVegan                             2\nEggetarian                        1\nNo Onion No Garlic (Sattvic)      1\nBrunch                            1\nSugar Free Diet                   1\nName: count, dtype: int64"
     },
     "execution_count": 261,
     "metadata": {},
     "output_type": "execute_result"
    }
   ],
   "source": [
    "QuickIFdf.Course.value_counts()"
   ],
   "metadata": {
    "collapsed": false,
    "ExecuteTime": {
     "end_time": "2024-05-11T02:22:46.288075300Z",
     "start_time": "2024-05-11T02:22:46.067378200Z"
    }
   },
   "id": "cef14c865c6da9e8"
  },
  {
   "cell_type": "code",
   "execution_count": 262,
   "outputs": [
    {
     "data": {
      "text/plain": "Course\nLunch                      1368\nSnack                       608\nDinner                      607\nDessert                     562\nSide Dish                   485\nAppetizer                   413\nMain Course                 245\nSouth Indian Breakfast      184\nWorld Breakfast             126\nNorth Indian Breakfast       83\nIndian Breakfast             67\nOne Pot Dish                 29\nVegetarian                   13\nHigh Protein Vegetarian       4\nBrunch                        3\nNon Vegeterian                2\nVegan                         1\nName: count, dtype: int64"
     },
     "execution_count": 262,
     "metadata": {},
     "output_type": "execute_result"
    }
   ],
   "source": [
    "SlowIFdf.Course.value_counts()"
   ],
   "metadata": {
    "collapsed": false,
    "ExecuteTime": {
     "end_time": "2024-05-11T02:22:46.288075300Z",
     "start_time": "2024-05-11T02:22:46.083260600Z"
    }
   },
   "id": "134979e88e8f38a4"
  },
  {
   "cell_type": "markdown",
   "source": [
    "Not surprisingly, the top quick dishes are smaller/side dishes and not main courses. "
   ],
   "metadata": {
    "collapsed": false
   },
   "id": "8d593cddcba7332b"
  },
  {
   "cell_type": "code",
   "execution_count": 263,
   "outputs": [
    {
     "data": {
      "text/plain": "                                       AverageTotalTime\nCuisine              Course                            \nNorth Indian Recipes Indian Breakfast               5.0\nAsian                Vegetarian                     7.0\nAfghan               Snack                         10.0\nChinese              Dessert                       10.0\nIndian               Vegetarian                    10.0\n...                                                 ...\nPakistani            Side Dish                     30.0\nKerala Recipes       One Pot Dish                  30.0\nNorth Karnataka      Main Course                   30.0\nFusion               Indian Breakfast              30.0\nAwadhi               Lunch                         30.0\n\n[286 rows x 1 columns]",
      "text/html": "<div>\n<style scoped>\n    .dataframe tbody tr th:only-of-type {\n        vertical-align: middle;\n    }\n\n    .dataframe tbody tr th {\n        vertical-align: top;\n    }\n\n    .dataframe thead th {\n        text-align: right;\n    }\n</style>\n<table border=\"1\" class=\"dataframe\">\n  <thead>\n    <tr style=\"text-align: right;\">\n      <th></th>\n      <th></th>\n      <th>AverageTotalTime</th>\n    </tr>\n    <tr>\n      <th>Cuisine</th>\n      <th>Course</th>\n      <th></th>\n    </tr>\n  </thead>\n  <tbody>\n    <tr>\n      <th>North Indian Recipes</th>\n      <th>Indian Breakfast</th>\n      <td>5.0</td>\n    </tr>\n    <tr>\n      <th>Asian</th>\n      <th>Vegetarian</th>\n      <td>7.0</td>\n    </tr>\n    <tr>\n      <th>Afghan</th>\n      <th>Snack</th>\n      <td>10.0</td>\n    </tr>\n    <tr>\n      <th>Chinese</th>\n      <th>Dessert</th>\n      <td>10.0</td>\n    </tr>\n    <tr>\n      <th>Indian</th>\n      <th>Vegetarian</th>\n      <td>10.0</td>\n    </tr>\n    <tr>\n      <th>...</th>\n      <th>...</th>\n      <td>...</td>\n    </tr>\n    <tr>\n      <th>Pakistani</th>\n      <th>Side Dish</th>\n      <td>30.0</td>\n    </tr>\n    <tr>\n      <th>Kerala Recipes</th>\n      <th>One Pot Dish</th>\n      <td>30.0</td>\n    </tr>\n    <tr>\n      <th>North Karnataka</th>\n      <th>Main Course</th>\n      <td>30.0</td>\n    </tr>\n    <tr>\n      <th>Fusion</th>\n      <th>Indian Breakfast</th>\n      <td>30.0</td>\n    </tr>\n    <tr>\n      <th>Awadhi</th>\n      <th>Lunch</th>\n      <td>30.0</td>\n    </tr>\n  </tbody>\n</table>\n<p>286 rows × 1 columns</p>\n</div>"
     },
     "execution_count": 263,
     "metadata": {},
     "output_type": "execute_result"
    }
   ],
   "source": [
    "#What can we see about the fastest foods?\n",
    "QuickIFdf.groupby(['Cuisine','Course']).agg({'TotalTimeInMins':'mean'}).rename(columns={'TotalTimeInMins':'AverageTotalTime'}).round().sort_values('AverageTotalTime')"
   ],
   "metadata": {
    "collapsed": false,
    "ExecuteTime": {
     "end_time": "2024-05-11T02:22:46.288075300Z",
     "start_time": "2024-05-11T02:22:46.099348400Z"
    }
   },
   "id": "6bd9473463062ff2"
  },
  {
   "cell_type": "code",
   "execution_count": 264,
   "outputs": [
    {
     "data": {
      "text/plain": "                                               AverageTotalTime\nCuisine               Course                                   \nOriya Recipes         Indian Breakfast                   1470.0\nContinental           Vegetarian                         1440.0\nIndian                High Protein Vegetarian             850.0\nNepalese              Dinner                              762.0\nBihari                Dinner                              580.0\n...                                                         ...\nKerala Recipes        Indian Breakfast                     35.0\nKonkan                Appetizer                            35.0\nMaharashtrian Recipes Appetizer                            35.0\nMalaysian             Snack                                35.0\nWorld Breakfast       Vegetarian                           35.0\n\n[439 rows x 1 columns]",
      "text/html": "<div>\n<style scoped>\n    .dataframe tbody tr th:only-of-type {\n        vertical-align: middle;\n    }\n\n    .dataframe tbody tr th {\n        vertical-align: top;\n    }\n\n    .dataframe thead th {\n        text-align: right;\n    }\n</style>\n<table border=\"1\" class=\"dataframe\">\n  <thead>\n    <tr style=\"text-align: right;\">\n      <th></th>\n      <th></th>\n      <th>AverageTotalTime</th>\n    </tr>\n    <tr>\n      <th>Cuisine</th>\n      <th>Course</th>\n      <th></th>\n    </tr>\n  </thead>\n  <tbody>\n    <tr>\n      <th>Oriya Recipes</th>\n      <th>Indian Breakfast</th>\n      <td>1470.0</td>\n    </tr>\n    <tr>\n      <th>Continental</th>\n      <th>Vegetarian</th>\n      <td>1440.0</td>\n    </tr>\n    <tr>\n      <th>Indian</th>\n      <th>High Protein Vegetarian</th>\n      <td>850.0</td>\n    </tr>\n    <tr>\n      <th>Nepalese</th>\n      <th>Dinner</th>\n      <td>762.0</td>\n    </tr>\n    <tr>\n      <th>Bihari</th>\n      <th>Dinner</th>\n      <td>580.0</td>\n    </tr>\n    <tr>\n      <th>...</th>\n      <th>...</th>\n      <td>...</td>\n    </tr>\n    <tr>\n      <th>Kerala Recipes</th>\n      <th>Indian Breakfast</th>\n      <td>35.0</td>\n    </tr>\n    <tr>\n      <th>Konkan</th>\n      <th>Appetizer</th>\n      <td>35.0</td>\n    </tr>\n    <tr>\n      <th>Maharashtrian Recipes</th>\n      <th>Appetizer</th>\n      <td>35.0</td>\n    </tr>\n    <tr>\n      <th>Malaysian</th>\n      <th>Snack</th>\n      <td>35.0</td>\n    </tr>\n    <tr>\n      <th>World Breakfast</th>\n      <th>Vegetarian</th>\n      <td>35.0</td>\n    </tr>\n  </tbody>\n</table>\n<p>439 rows × 1 columns</p>\n</div>"
     },
     "execution_count": 264,
     "metadata": {},
     "output_type": "execute_result"
    }
   ],
   "source": [
    "#What about the slowest foods?\n",
    "SlowIFdf.groupby(['Cuisine','Course']).agg({'TotalTimeInMins':'mean'}).rename(columns={'TotalTimeInMins':'AverageTotalTime'}).round().sort_values('AverageTotalTime', ascending=False)"
   ],
   "metadata": {
    "collapsed": false,
    "ExecuteTime": {
     "end_time": "2024-05-11T02:22:46.303701100Z",
     "start_time": "2024-05-11T02:22:46.146309700Z"
    }
   },
   "id": "2595ef8e3aa62f6d"
  },
  {
   "cell_type": "markdown",
   "source": [
    "Wow! Some of those times are crazy long. Is that an error? Let's see what the directions and ingredients are for those"
   ],
   "metadata": {
    "collapsed": false
   },
   "id": "a262b56875418676"
  },
  {
   "cell_type": "code",
   "execution_count": 265,
   "outputs": [],
   "source": [
    "ExtralongIFdf = IndianFoodDF[IndianFoodDF.TotalTimeInMins >= 500]"
   ],
   "metadata": {
    "collapsed": false,
    "ExecuteTime": {
     "end_time": "2024-05-11T02:22:46.303701100Z",
     "start_time": "2024-05-11T02:22:46.182232200Z"
    }
   },
   "id": "6b30cd1c3f922dac"
  },
  {
   "cell_type": "markdown",
   "source": [
    "Let's take a look at what we can do with the DataFrame to make it searchable by ingredient:"
   ],
   "metadata": {
    "collapsed": false
   },
   "id": "86f2f789ebfd927b"
  },
  {
   "cell_type": "code",
   "execution_count": 266,
   "outputs": [],
   "source": [
    "#First, build a second dataframe with just the recipe name and the ingredients list.\n",
    "IngredientsDF = IndianFoodDF[['RecipeName','Ingredients']].copy()"
   ],
   "metadata": {
    "collapsed": false,
    "ExecuteTime": {
     "end_time": "2024-05-11T02:22:46.303701100Z",
     "start_time": "2024-05-11T02:22:46.214705900Z"
    }
   },
   "id": "232e2d72a2e7d453"
  },
  {
   "cell_type": "code",
   "execution_count": 267,
   "outputs": [
    {
     "data": {
      "text/plain": "                                          RecipeName  \\\n0                               Masala Karela Recipe   \n1                         Spicy Tomato Rice (Recipe)   \n2  Ragi Semiya Upma Recipe - Ragi Millet Vermicel...   \n3  Gongura Chicken Curry Recipe - Andhra Style Go...   \n4  Andhra Style Alam Pachadi Recipe - Adrak Chutn...   \n\n                                         Ingredients  \n0  6 Karela (Bitter Gourd/ Pavakkai) - deseeded,S...  \n1  2-1 / 2 cups rice - cooked, 3 tomatoes, 3 teas...  \n2  1-1/2 cups Rice Vermicelli Noodles (Thin),1 On...  \n3  500 grams Chicken,2 Onion - chopped,1 Tomato -...  \n4  1 tablespoon chana dal, 1 tablespoon white ura...  ",
      "text/html": "<div>\n<style scoped>\n    .dataframe tbody tr th:only-of-type {\n        vertical-align: middle;\n    }\n\n    .dataframe tbody tr th {\n        vertical-align: top;\n    }\n\n    .dataframe thead th {\n        text-align: right;\n    }\n</style>\n<table border=\"1\" class=\"dataframe\">\n  <thead>\n    <tr style=\"text-align: right;\">\n      <th></th>\n      <th>RecipeName</th>\n      <th>Ingredients</th>\n    </tr>\n  </thead>\n  <tbody>\n    <tr>\n      <th>0</th>\n      <td>Masala Karela Recipe</td>\n      <td>6 Karela (Bitter Gourd/ Pavakkai) - deseeded,S...</td>\n    </tr>\n    <tr>\n      <th>1</th>\n      <td>Spicy Tomato Rice (Recipe)</td>\n      <td>2-1 / 2 cups rice - cooked, 3 tomatoes, 3 teas...</td>\n    </tr>\n    <tr>\n      <th>2</th>\n      <td>Ragi Semiya Upma Recipe - Ragi Millet Vermicel...</td>\n      <td>1-1/2 cups Rice Vermicelli Noodles (Thin),1 On...</td>\n    </tr>\n    <tr>\n      <th>3</th>\n      <td>Gongura Chicken Curry Recipe - Andhra Style Go...</td>\n      <td>500 grams Chicken,2 Onion - chopped,1 Tomato -...</td>\n    </tr>\n    <tr>\n      <th>4</th>\n      <td>Andhra Style Alam Pachadi Recipe - Adrak Chutn...</td>\n      <td>1 tablespoon chana dal, 1 tablespoon white ura...</td>\n    </tr>\n  </tbody>\n</table>\n</div>"
     },
     "execution_count": 267,
     "metadata": {},
     "output_type": "execute_result"
    }
   ],
   "source": [
    "IngredientsDF.head()"
   ],
   "metadata": {
    "collapsed": false,
    "ExecuteTime": {
     "end_time": "2024-05-11T02:22:46.303701100Z",
     "start_time": "2024-05-11T02:22:46.214705900Z"
    }
   },
   "id": "1c42057221769fa9"
  },
  {
   "cell_type": "code",
   "execution_count": 270,
   "outputs": [],
   "source": [
    "def split(string):\n",
    "    return string.lower().split(', ')"
   ],
   "metadata": {
    "collapsed": false,
    "ExecuteTime": {
     "end_time": "2024-05-11T02:23:00.961567800Z",
     "start_time": "2024-05-11T02:23:00.918745800Z"
    }
   },
   "id": "ea890a9841bb3049"
  },
  {
   "cell_type": "code",
   "execution_count": 271,
   "outputs": [],
   "source": [
    "IngredientsDF['Ingredients'] = IngredientsDF['Ingredients'].apply(split)"
   ],
   "metadata": {
    "collapsed": false,
    "ExecuteTime": {
     "end_time": "2024-05-11T02:23:02.546306100Z",
     "start_time": "2024-05-11T02:23:02.514560300Z"
    }
   },
   "id": "717f31ebb4b7d124"
  },
  {
   "cell_type": "code",
   "execution_count": null,
   "outputs": [],
   "source": [
    "#define a search function\n",
    "def search_string(s, search):\n",
    "    return search in str(s)"
   ],
   "metadata": {
    "collapsed": false
   },
   "id": "863bc5f15239f8d4"
  },
  {
   "cell_type": "code",
   "execution_count": 275,
   "outputs": [
    {
     "data": {
      "text/plain": "                                             RecipeName  \\\n13    And fish soup recipe - Bengali style fish in t...   \n55    Spicy Seafood Stew Casserole With Tomatoes And...   \n85      Drunken Noodles Recipe - Drunken Noodles Recipe   \n134           And fish soup recipe - Bengali fish curry   \n333   Meen Vevichathu Recipe - Kottayam Style Fish C...   \n340       Thai Som Tum Recipe (Thai Green Papaya Salad)   \n355   Macher Chop Recipe (Bengali Style Fish Croquet...   \n410         Baked Fish Crisps Recipe (Fish Fry In Oven)   \n493             Cantonese Chicken With Mushrooms Recipe   \n516   Broccoli Chilli Noodles With Grilled Salmon Re...   \n538          Assamese Fish Fried Rice (Recipe In Hindi)   \n616                      Kerala Style Fish Curry Recipe   \n635   Assamese Narasingh Masor Jhol Recipe (Fish In ...   \n672   Bengali Style Hilsa Fish In Poppy Seeds & Yogu...   \n694                   Baked Fish In Coconut Milk Recipe   \n705   Restaurant Style Chettinad Style Fish Curry Re...   \n724   Malvani Fish Curry Recipe - Delicious And Spic...   \n931                 Asian Black Pepper Basa Fish Recipe   \n1052  Grilled Herring With Kasundi Mustard And Wild ...   \n1108                        Amritsari Fish Gravy Recipe   \n1202  Neymeen Vatti Pattichathu Recipe - Seer Fish I...   \n1326   Lagan Ki Machli Recipe - Delicious Pomfret Curry   \n1333  Assamese Saaru Maas Diya Adar Jhol Recipe - Fi...   \n1406  Kasuri Methi Mach Recipe - Dry Fenugreek Flavo...   \n1414                              Thai Fish Cake Recipe   \n\n                                            Ingredients  \n13    [600 grams aar maach (fish) - rohu/ katla fish...  \n55    [250 grams fish fillet - basa,250 grams prawns...  \n85    [200 grams rice noodles, 1/2 cup baby corn - c...  \n134   [1 aar maach (fish) - (rohu or katla),1 tomato...  \n333   [2 seer fish - slices,1/2 teaspoon turmeric po...  \n340   [5 cherry tomatoes,1 tablespoon dried shrimps ...  \n355   [500 grams fish fillet,1 cup onion - chopped,1...  \n410   [10 fish - pieces,1 teaspoon sunflower oil - o...  \n493   [250 grams boneless chicken,1 cup shiitake mus...  \n516   [400 grams salmon fillet - (indian salmon work...  \n538   [2 cups rice - cook, 1 cup fish - cut in half,...  \n616   [1/2 kg fish - (i have used sardine cleaned an...  \n635   [4 sardine fish - or carps,curry leaves - 1 bu...  \n672   [500 grams hilsa fish,3 tablespoon mustard oil...  \n694   [1 kg fish fillet - cut into medium,2 tablespo...  \n705   [5-6 fish fillet - surmai or pomphret variety,...  \n724   [1 inch ginger - finely chopped,4 cloves garli...  \n931   [2 basa fish - fillets,1 teaspoon vinegar,1 te...  \n1052  [4 herring fish steaks,1 teaspoon ginger garli...  \n1108  [300 gram fish - cutlets,1/4 teaspoon ajwain (...  \n1202  [2 seer fish - cleaned and cut,2 sprig curry l...  \n1326  [2 pomfret fish,1 tablespoon ginger - paste,1 ...  \n1333  [10 fish - small,1-1/2 cups water,1-1/2 teaspo...  \n1406  [8 rohu fish - or katla or any carp,100 grams ...  \n1414  [300 grams basa fish - fillets,1 whole egg,2 t...  ",
      "text/html": "<div>\n<style scoped>\n    .dataframe tbody tr th:only-of-type {\n        vertical-align: middle;\n    }\n\n    .dataframe tbody tr th {\n        vertical-align: top;\n    }\n\n    .dataframe thead th {\n        text-align: right;\n    }\n</style>\n<table border=\"1\" class=\"dataframe\">\n  <thead>\n    <tr style=\"text-align: right;\">\n      <th></th>\n      <th>RecipeName</th>\n      <th>Ingredients</th>\n    </tr>\n  </thead>\n  <tbody>\n    <tr>\n      <th>13</th>\n      <td>And fish soup recipe - Bengali style fish in t...</td>\n      <td>[600 grams aar maach (fish) - rohu/ katla fish...</td>\n    </tr>\n    <tr>\n      <th>55</th>\n      <td>Spicy Seafood Stew Casserole With Tomatoes And...</td>\n      <td>[250 grams fish fillet - basa,250 grams prawns...</td>\n    </tr>\n    <tr>\n      <th>85</th>\n      <td>Drunken Noodles Recipe - Drunken Noodles Recipe</td>\n      <td>[200 grams rice noodles, 1/2 cup baby corn - c...</td>\n    </tr>\n    <tr>\n      <th>134</th>\n      <td>And fish soup recipe - Bengali fish curry</td>\n      <td>[1 aar maach (fish) - (rohu or katla),1 tomato...</td>\n    </tr>\n    <tr>\n      <th>333</th>\n      <td>Meen Vevichathu Recipe - Kottayam Style Fish C...</td>\n      <td>[2 seer fish - slices,1/2 teaspoon turmeric po...</td>\n    </tr>\n    <tr>\n      <th>340</th>\n      <td>Thai Som Tum Recipe (Thai Green Papaya Salad)</td>\n      <td>[5 cherry tomatoes,1 tablespoon dried shrimps ...</td>\n    </tr>\n    <tr>\n      <th>355</th>\n      <td>Macher Chop Recipe (Bengali Style Fish Croquet...</td>\n      <td>[500 grams fish fillet,1 cup onion - chopped,1...</td>\n    </tr>\n    <tr>\n      <th>410</th>\n      <td>Baked Fish Crisps Recipe (Fish Fry In Oven)</td>\n      <td>[10 fish - pieces,1 teaspoon sunflower oil - o...</td>\n    </tr>\n    <tr>\n      <th>493</th>\n      <td>Cantonese Chicken With Mushrooms Recipe</td>\n      <td>[250 grams boneless chicken,1 cup shiitake mus...</td>\n    </tr>\n    <tr>\n      <th>516</th>\n      <td>Broccoli Chilli Noodles With Grilled Salmon Re...</td>\n      <td>[400 grams salmon fillet - (indian salmon work...</td>\n    </tr>\n    <tr>\n      <th>538</th>\n      <td>Assamese Fish Fried Rice (Recipe In Hindi)</td>\n      <td>[2 cups rice - cook, 1 cup fish - cut in half,...</td>\n    </tr>\n    <tr>\n      <th>616</th>\n      <td>Kerala Style Fish Curry Recipe</td>\n      <td>[1/2 kg fish - (i have used sardine cleaned an...</td>\n    </tr>\n    <tr>\n      <th>635</th>\n      <td>Assamese Narasingh Masor Jhol Recipe (Fish In ...</td>\n      <td>[4 sardine fish - or carps,curry leaves - 1 bu...</td>\n    </tr>\n    <tr>\n      <th>672</th>\n      <td>Bengali Style Hilsa Fish In Poppy Seeds &amp; Yogu...</td>\n      <td>[500 grams hilsa fish,3 tablespoon mustard oil...</td>\n    </tr>\n    <tr>\n      <th>694</th>\n      <td>Baked Fish In Coconut Milk Recipe</td>\n      <td>[1 kg fish fillet - cut into medium,2 tablespo...</td>\n    </tr>\n    <tr>\n      <th>705</th>\n      <td>Restaurant Style Chettinad Style Fish Curry Re...</td>\n      <td>[5-6 fish fillet - surmai or pomphret variety,...</td>\n    </tr>\n    <tr>\n      <th>724</th>\n      <td>Malvani Fish Curry Recipe - Delicious And Spic...</td>\n      <td>[1 inch ginger - finely chopped,4 cloves garli...</td>\n    </tr>\n    <tr>\n      <th>931</th>\n      <td>Asian Black Pepper Basa Fish Recipe</td>\n      <td>[2 basa fish - fillets,1 teaspoon vinegar,1 te...</td>\n    </tr>\n    <tr>\n      <th>1052</th>\n      <td>Grilled Herring With Kasundi Mustard And Wild ...</td>\n      <td>[4 herring fish steaks,1 teaspoon ginger garli...</td>\n    </tr>\n    <tr>\n      <th>1108</th>\n      <td>Amritsari Fish Gravy Recipe</td>\n      <td>[300 gram fish - cutlets,1/4 teaspoon ajwain (...</td>\n    </tr>\n    <tr>\n      <th>1202</th>\n      <td>Neymeen Vatti Pattichathu Recipe - Seer Fish I...</td>\n      <td>[2 seer fish - cleaned and cut,2 sprig curry l...</td>\n    </tr>\n    <tr>\n      <th>1326</th>\n      <td>Lagan Ki Machli Recipe - Delicious Pomfret Curry</td>\n      <td>[2 pomfret fish,1 tablespoon ginger - paste,1 ...</td>\n    </tr>\n    <tr>\n      <th>1333</th>\n      <td>Assamese Saaru Maas Diya Adar Jhol Recipe - Fi...</td>\n      <td>[10 fish - small,1-1/2 cups water,1-1/2 teaspo...</td>\n    </tr>\n    <tr>\n      <th>1406</th>\n      <td>Kasuri Methi Mach Recipe - Dry Fenugreek Flavo...</td>\n      <td>[8 rohu fish - or katla or any carp,100 grams ...</td>\n    </tr>\n    <tr>\n      <th>1414</th>\n      <td>Thai Fish Cake Recipe</td>\n      <td>[300 grams basa fish - fillets,1 whole egg,2 t...</td>\n    </tr>\n  </tbody>\n</table>\n</div>"
     },
     "execution_count": 275,
     "metadata": {},
     "output_type": "execute_result"
    }
   ],
   "source": [
    "#search for any item in the ingredients column\n",
    "search_item = input(f'Find Recipes with a chosen ingredient! \\n What ingredient would you like to search for?')\n",
    "mask = IngredientsDF.apply(lambda x: x.map(lambda s: search_string(s, search_item)))\n",
    "\n",
    "# Filter the DataFrame based on the mask\n",
    "filtered_df = IngredientsDF.loc[mask.any(axis=1)]\n",
    "filtered_df.head(25)"
   ],
   "metadata": {
    "collapsed": false,
    "ExecuteTime": {
     "end_time": "2024-05-11T02:29:22.477019300Z",
     "start_time": "2024-05-11T02:29:17.552390600Z"
    }
   },
   "id": "df06713e7e5c57d1"
  }
 ],
 "metadata": {
  "kernelspec": {
   "display_name": "Python 3",
   "language": "python",
   "name": "python3"
  },
  "language_info": {
   "codemirror_mode": {
    "name": "ipython",
    "version": 2
   },
   "file_extension": ".py",
   "mimetype": "text/x-python",
   "name": "python",
   "nbconvert_exporter": "python",
   "pygments_lexer": "ipython2",
   "version": "2.7.6"
  }
 },
 "nbformat": 4,
 "nbformat_minor": 5
}
